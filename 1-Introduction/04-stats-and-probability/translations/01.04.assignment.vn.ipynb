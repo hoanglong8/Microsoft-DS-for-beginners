{
  "cells": [
    {
      "cell_type": "markdown",
      "source": [
        "## Bài tập thực hành Xác suất và Thống kê\n",
        "\n",
        "In this assignment, we will use the dataset of diabetes patients taken [from here](https://www4.stat.ncsu.edu/~boos/var.select/diabetes.html)."
      ],
      "metadata": {
        "id": "YkOpMBDaX9UH"
      }
    },
    {
      "cell_type": "code",
      "execution_count": 27,
      "source": [
        "import pandas as pd\n",
        "\n",
        "# URL của tệp dữ liệu\n",
        "url = 'https://www4.stat.ncsu.edu/~boos/var.select/diabetes.tab.txt'\n",
        "\n",
        "# Đọc dữ liệu từ URL vào DataFrame\n",
        "df = pd.read_csv(url, sep='\\t')\n",
        "\n",
        "# Hiển thị thông tin tổng quan về DataFrame\n",
        "# print(df.info())\n",
        "\n",
        "# Hiển thị 5 hàng đầu tiên của DataFrame\n",
        "print(df.head())\n"
      ],
      "outputs": [
        {
          "output_type": "stream",
          "name": "stdout",
          "text": [
            "   AGE  SEX   BMI     BP   S1     S2    S3   S4      S5  S6    Y\n",
            "0   59    2  32.1  101.0  157   93.2  38.0  4.0  4.8598  87  151\n",
            "1   48    1  21.6   87.0  183  103.2  70.0  3.0  3.8918  69   75\n",
            "2   72    2  30.5   93.0  156   93.6  41.0  4.0  4.6728  85  141\n",
            "3   24    1  25.3   84.0  198  131.4  40.0  5.0  4.8903  89  206\n",
            "4   50    1  23.0  101.0  192  125.4  52.0  4.0  4.2905  80  135\n"
          ]
        }
      ],
      "metadata": {
        "id": "mEtDe-tFX9UJ",
        "outputId": "3dbd1770-67f2-4737-d9df-a1ddabc9449e",
        "colab": {
          "base_uri": "https://localhost:8080/"
        }
      }
    },
    {
      "cell_type": "markdown",
      "source": [
        "Nếu muốn chuyển giá trị trong cột Giới tính từ [1;2] thành [Nam;Nữ] hoặc [0;1] thì dùng hàm replace() như sau:"
      ],
      "metadata": {
        "id": "j9EqnwMfY7Gi"
      }
    },
    {
      "cell_type": "code",
      "source": [
        "import pandas as pd\n",
        "\n",
        "# Thay thế giá trị trong cột 'SEX': 1 -> 0, 2 -> 1\n",
        "df['SEX'] = df['SEX'].replace({1: 0, 2: 1})\n",
        "\n",
        "# Kiểm tra kết quả\n",
        "print(df['SEX'].value_counts())\n"
      ],
      "metadata": {
        "id": "mpLBZ-_jZMsp",
        "outputId": "d8698525-d638-4f06-dafe-fd38a093ff5b",
        "colab": {
          "base_uri": "https://localhost:8080/"
        }
      },
      "execution_count": 28,
      "outputs": [
        {
          "output_type": "stream",
          "name": "stdout",
          "text": [
            "SEX\n",
            "0    235\n",
            "1    207\n",
            "Name: count, dtype: int64\n"
          ]
        }
      ]
    },
    {
      "cell_type": "markdown",
      "source": [
        "\n",
        "In this dataset, columns as the following:\n",
        "* Age and sex are self-explanatory\n",
        "* BMI is body mass index\n",
        "* BP is average blood pressure\n",
        "* S1 through S6 are different blood measurements\n",
        "* Y is the qualitative measure of disease progression over one year\n",
        "\n",
        "Let's study this dataset using methods of probability and statistics.\n",
        "\n",
        "### Task 1: Compute mean values and variance for all values"
      ],
      "metadata": {
        "id": "383hHThwX9UL"
      }
    },
    {
      "cell_type": "code",
      "execution_count": 29,
      "source": [
        "import pandas as pd\n",
        "\n",
        "# Tính giá trị trung bình cho tất cả các cột số\n",
        "mean_values = df.mean()\n",
        "\n",
        "# Tính phương sai cho tất cả các cột số\n",
        "variance_values = df.var()\n",
        "\n",
        "# Hiển thị kết quả\n",
        "print(\"Giá trị trung bình của các cột là:\")\n",
        "print(mean_values)\n",
        "print(\"\\nPhương sai của các cột là:\")\n",
        "print(variance_values)\n"
      ],
      "outputs": [
        {
          "output_type": "stream",
          "name": "stdout",
          "text": [
            "Giá trị trung bình của các cột là:\n",
            "AGE     48.518100\n",
            "SEX      0.468326\n",
            "BMI     26.375792\n",
            "BP      94.647014\n",
            "S1     189.140271\n",
            "S2     115.439140\n",
            "S3      49.788462\n",
            "S4       4.070249\n",
            "S5       4.641411\n",
            "S6      91.260181\n",
            "Y      152.133484\n",
            "dtype: float64\n",
            "\n",
            "Phương sai của các cột là:\n",
            "AGE     171.846610\n",
            "SEX       0.249561\n",
            "BMI      19.519798\n",
            "BP      191.304401\n",
            "S1     1197.717241\n",
            "S2      924.955494\n",
            "S3      167.293585\n",
            "S4        1.665261\n",
            "S5        0.272892\n",
            "S6      132.165712\n",
            "Y      5943.331348\n",
            "dtype: float64\n"
          ]
        }
      ],
      "metadata": {
        "id": "35H_5xU7X9UM",
        "outputId": "ebbcedf4-7c55-4401-fa1d-f91afa64e2a3",
        "colab": {
          "base_uri": "https://localhost:8080/"
        }
      }
    },
    {
      "cell_type": "markdown",
      "source": [
        "Nhận định: Giá trị trung bình cột Giới tính là 0.46 gần 0.5 thì có nghĩa là mẫu này có số lượng nam nữ gần cân bằng.\n",
        "\n",
        "BMI hơn 26 thì trung bình mẫu này có mức độ thừa cân ở mức 2."
      ],
      "metadata": {
        "id": "VrZ7jbznZe5n"
      }
    },
    {
      "cell_type": "markdown",
      "source": [
        "### Task 2: Plot boxplots for BMI, BP and Y depending on gender"
      ],
      "metadata": {
        "id": "TcqpevjPX9UM"
      }
    },
    {
      "cell_type": "code",
      "execution_count": 31,
      "source": [
        "# Cài thư viện và các chuẩn bị khác\n",
        "import pandas as pd\n",
        "import seaborn as sns\n",
        "import matplotlib.pyplot as plt\n",
        "\n",
        "# cột 'SEX' được mã hóa dưới dạng 0 và 1\n",
        "# Nếu cần, bạn có thể chuyển đổi 'SEX' thành kiểu chuỗi để hiển thị nhãn rõ ràng hơn\n",
        "# df['SEX'] = df['SEX'].map({0: 'Nam', 1: 'Nữ'})\n",
        "\n"
      ],
      "outputs": [],
      "metadata": {
        "id": "QCP1dfMnX9UN"
      }
    },
    {
      "cell_type": "code",
      "source": [
        "# Thiết lập kiểu dáng cho biểu đồ\n",
        "sns.set(style=\"whitegrid\")\n",
        "\n",
        "# Tạo một figure với kích thước tùy chỉnh\n",
        "plt.figure(figsize=(15, 5))\n",
        "\n",
        "# Danh sách các biến cần vẽ\n",
        "variables = ['BMI', 'BP', 'Y']\n",
        "\n",
        "# Lặp qua các biến và vẽ biểu đồ hộp cho từng biến\n",
        "for i, var in enumerate(variables):\n",
        "    plt.subplot(1, 3, i + 1)  # Tạo subplot\n",
        "    sns.boxplot(x='SEX', y=var, data=df)\n",
        "    plt.title(f'Biểu đồ hộp của {var} theo giới tính')\n",
        "    plt.xlabel('Giới tính')\n",
        "    plt.ylabel(var)\n",
        "\n",
        "# Điều chỉnh khoảng cách giữa các subplot\n",
        "plt.tight_layout()\n",
        "\n",
        "# Hiển thị biểu đồ\n",
        "plt.show()\n"
      ],
      "metadata": {
        "id": "x5DUqq_waQkA",
        "outputId": "108e4777-12aa-4edc-b84d-933ab5e98797",
        "colab": {
          "base_uri": "https://localhost:8080/",
          "height": 422
        }
      },
      "execution_count": 32,
      "outputs": [
        {
          "output_type": "display_data",
          "data": {
            "text/plain": [
              "<Figure size 1500x500 with 3 Axes>"
            ],
            "image/png": "[encoded data removed]"
          },
          "metadata": {}
        }
      ]
    },
    {
      "cell_type": "markdown",
      "source": [
        "### Task 3: What is the the distribution of Age, Sex, BMI and Y variables?"
      ],
      "metadata": {
        "id": "-XOW4_46X9UN"
      }
    },
    {
      "cell_type": "code",
      "execution_count": null,
      "source": [],
      "outputs": [],
      "metadata": {
        "id": "uVoldrewX9UN"
      }
    },
    {
      "cell_type": "markdown",
      "source": [
        "### Task 4: Test the correlation between different variables and disease progression (Y)\n",
        "\n",
        "> **Hint** Correlation matrix would give you the most useful information on which values are dependent."
      ],
      "metadata": {
        "id": "VvphFDZxX9UN"
      }
    },
    {
      "cell_type": "markdown",
      "source": [],
      "metadata": {
        "id": "94y_mKFVX9UO"
      }
    },
    {
      "cell_type": "markdown",
      "source": [
        "### Task 5: Test the hypothesis that the degree of diabetes progression is different between men and women"
      ],
      "metadata": {
        "id": "81C65dmzX9UO"
      }
    },
    {
      "cell_type": "markdown",
      "source": [],
      "metadata": {
        "id": "Muq8R2lPX9UO"
      }
    }
  ],
  "metadata": {
    "orig_nbformat": 4,
    "language_info": {
      "name": "python",
      "version": "3.8.8",
      "mimetype": "text/x-python",
      "codemirror_mode": {
        "name": "ipython",
        "version": 3
      },
      "pygments_lexer": "ipython3",
      "nbconvert_exporter": "python",
      "file_extension": ".py"
    },
    "kernelspec": {
      "name": "python3",
      "display_name": "Python 3.8.8 64-bit (conda)"
    },
    "interpreter": {
      "hash": "86193a1ab0ba47eac1c69c1756090baa3b420b3eea7d4aafab8b85f8b312f0c5"
    },
    "colab": {
      "provenance": []
    }
  },
  "nbformat": 4,
  "nbformat_minor": 0
}